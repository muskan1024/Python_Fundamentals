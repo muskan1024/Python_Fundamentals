{
 "cells": [
  {
   "cell_type": "code",
   "execution_count": null,
   "id": "3b21da5d-d1e3-42af-8091-8b65096022ce",
   "metadata": {},
   "outputs": [],
   "source": [
    "continuation with string datatype:"
   ]
  },
  {
   "cell_type": "code",
   "execution_count": null,
   "id": "a042ca21-9553-4ce5-8dd1-916759f688b9",
   "metadata": {},
   "outputs": [],
   "source": []
  },
  {
   "cell_type": "code",
   "execution_count": 4,
   "id": "3e7e7937-7c29-4a7b-a20b-3b4a984d3eed",
   "metadata": {},
   "outputs": [
    {
     "name": "stdout",
     "output_type": "stream",
     "text": [
      "John\n"
     ]
    },
    {
     "data": {
      "text/plain": [
       "str"
      ]
     },
     "execution_count": 4,
     "metadata": {},
     "output_type": "execute_result"
    }
   ],
   "source": [
    "name = \"John\"\n",
    "print(name)\n",
    "type(name)"
   ]
  },
  {
   "cell_type": "code",
   "execution_count": 5,
   "id": "f180a4a8-628d-478c-ae26-96910a141b99",
   "metadata": {},
   "outputs": [
    {
     "name": "stdout",
     "output_type": "stream",
     "text": [
      "dinesh sahu\n"
     ]
    }
   ],
   "source": [
    "fullname = \"dinesh sahu\"\n",
    "print(fullname)"
   ]
  },
  {
   "cell_type": "code",
   "execution_count": 7,
   "id": "e8ceffef-a972-4a2e-af27-f1d433a2aa94",
   "metadata": {},
   "outputs": [
    {
     "name": "stdout",
     "output_type": "stream",
     "text": [
      "Dinesh Sahu\n"
     ]
    }
   ],
   "source": [
    "print(fullname.title())"
   ]
  },
  {
   "cell_type": "code",
   "execution_count": 9,
   "id": "1351f768-3b27-47a2-a90d-b1002101b72a",
   "metadata": {},
   "outputs": [
    {
     "name": "stdout",
     "output_type": "stream",
     "text": [
      "DINESH SAHU\n",
      "dinesh sahu\n"
     ]
    }
   ],
   "source": [
    "# to get the full name in capital letters\n",
    "print(fullname.upper())\n",
    "print(fullname.lower()) #to get the full name in small letters"
   ]
  },
  {
   "cell_type": "code",
   "execution_count": null,
   "id": "a9d71ef3-bfc2-4a2f-8fb3-22bbfd8003b6",
   "metadata": {},
   "outputs": [],
   "source": []
  },
  {
   "cell_type": "code",
   "execution_count": null,
   "id": "4b7d932d-13bb-4380-814e-2159254bfdb6",
   "metadata": {},
   "outputs": [],
   "source": [
    "INTRODUCTION TO F STRINGS:\n",
    "    general syntax of f strings: \n",
    "        f\"custom_message {placeholder1} {placeholder2}.........{placefoldern}\""
   ]
  },
  {
   "cell_type": "code",
   "execution_count": null,
   "id": "a8cfd3be-78e9-411d-848a-b40ffb66aa55",
   "metadata": {},
   "outputs": [],
   "source": []
  },
  {
   "cell_type": "code",
   "execution_count": 11,
   "id": "02bddea6-bbd2-48fd-9ebc-9a0bbd0ab45d",
   "metadata": {},
   "outputs": [
    {
     "name": "stdout",
     "output_type": "stream",
     "text": [
      "sana kauser\n"
     ]
    }
   ],
   "source": [
    "firstname = \"sana\"\n",
    "lastname = \"kauser\"\n",
    "\n",
    "fullname = f\"{firstname} {lastname}\"\n",
    "print(fullname)"
   ]
  },
  {
   "cell_type": "code",
   "execution_count": 12,
   "id": "143a1285-a05c-4089-a79a-9e4fb74be260",
   "metadata": {},
   "outputs": [
    {
     "name": "stdout",
     "output_type": "stream",
     "text": [
      "Keep up the good work, Sana Kauser\n"
     ]
    }
   ],
   "source": [
    "message = f\"Keep up the good work, {fullname.title()}\"\n",
    "print(message)"
   ]
  },
  {
   "cell_type": "code",
   "execution_count": null,
   "id": "3eb71f94-0e19-4983-a194-27c1e2758b26",
   "metadata": {},
   "outputs": [],
   "source": []
  },
  {
   "cell_type": "code",
   "execution_count": null,
   "id": "a44c5980-3485-48fe-9d47-127f68074b6f",
   "metadata": {},
   "outputs": [],
   "source": [
    "Adding whitespaces to strings:"
   ]
  },
  {
   "cell_type": "code",
   "execution_count": 13,
   "id": "39bb63bb-d28e-4417-a171-6f1a19152043",
   "metadata": {},
   "outputs": [
    {
     "name": "stdout",
     "output_type": "stream",
     "text": [
      "favourite_programming:PythonJavaC++JavascriptSwiftR\n"
     ]
    }
   ],
   "source": [
    "print(\"favourite_programming:PythonJavaC++JavascriptSwiftR\")"
   ]
  },
  {
   "cell_type": "code",
   "execution_count": 14,
   "id": "e6151b3a-bffd-4326-8df0-91b86425adae",
   "metadata": {},
   "outputs": [
    {
     "name": "stdout",
     "output_type": "stream",
     "text": [
      "favourite_programming:\n",
      "Python\n",
      "Java\n",
      "C++\n",
      "Javascript\n",
      "Swift\n",
      "R\n"
     ]
    }
   ],
   "source": [
    "print(\"favourite_programming:\\nPython\\nJava\\nC++\\nJavascript\\nSwift\\nR\") #\\n ===> new line delimiter "
   ]
  },
  {
   "cell_type": "code",
   "execution_count": 15,
   "id": "f3c6ba3a-3194-479c-806f-70d63a1c7e5b",
   "metadata": {},
   "outputs": [
    {
     "name": "stdout",
     "output_type": "stream",
     "text": [
      "favourite_programming:\n",
      "\tPython\n",
      "\tJava\n",
      "\tC++\n",
      "\tJavascript\n",
      "\tSwift\n",
      "\tR\n"
     ]
    }
   ],
   "source": [
    "print(\"favourite_programming:\\n\\tPython\\n\\tJava\\n\\tC++\\n\\tJavascript\\n\\tSwift\\n\\tR\") #\\t ===> tab delimiter "
   ]
  },
  {
   "cell_type": "code",
   "execution_count": null,
   "id": "b9146712-61a4-44b3-bdac-c21a0d748011",
   "metadata": {},
   "outputs": [],
   "source": []
  }
 ],
 "metadata": {
  "kernelspec": {
   "display_name": "Python [conda env:base] *",
   "language": "python",
   "name": "conda-base-py"
  },
  "language_info": {
   "codemirror_mode": {
    "name": "ipython",
    "version": 3
   },
   "file_extension": ".py",
   "mimetype": "text/x-python",
   "name": "python",
   "nbconvert_exporter": "python",
   "pygments_lexer": "ipython3",
   "version": "3.13.5"
  }
 },
 "nbformat": 4,
 "nbformat_minor": 5
}
