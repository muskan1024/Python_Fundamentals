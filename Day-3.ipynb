{
 "cells": [
  {
   "cell_type": "code",
   "execution_count": null,
   "id": "c8a690f4-b6ae-4540-8224-c1af5efd6f98",
   "metadata": {},
   "outputs": [],
   "source": [
    "Day-3: Introduction to Python Fundamentals "
   ]
  },
  {
   "cell_type": "code",
   "execution_count": null,
   "id": "eba51c5b-5ec4-421f-ace2-bb1837c05241",
   "metadata": {},
   "outputs": [],
   "source": []
  },
  {
   "cell_type": "code",
   "execution_count": null,
   "id": "7c102e89-8218-4250-8f0b-af6315948ee3",
   "metadata": {},
   "outputs": [],
   "source": [
    "Understanding the variables in python:\n",
    "variables are the position holders, it is use to store data"
   ]
  },
  {
   "cell_type": "code",
   "execution_count": 2,
   "id": "5298b431-fd97-42b8-a17d-1e0b4ce7fed3",
   "metadata": {},
   "outputs": [],
   "source": [
    "a = 3\n",
    "b = 5"
   ]
  },
  {
   "cell_type": "code",
   "execution_count": 3,
   "id": "9b8094e7-bf6b-4a1f-86f2-1b6e947e22e5",
   "metadata": {},
   "outputs": [
    {
     "name": "stdout",
     "output_type": "stream",
     "text": [
      "8\n"
     ]
    }
   ],
   "source": [
    "c = a + b\n",
    "print(c)"
   ]
  },
  {
   "cell_type": "code",
   "execution_count": null,
   "id": "8db9ed43-e71c-47f8-bb45-684a0a672d01",
   "metadata": {},
   "outputs": [],
   "source": [
    "Rules for declaring the variables in python:\n",
    "    Rule 1: No Namespaces for declaring the variable name.\n",
    "    Rule 2: Variable name should not start with a number **(Interview question) we can use number anywhere in the name of the variable but not in the start of the variable name\n",
    "    Rule 3: Variable name should not contain any special character"
   ]
  },
  {
   "cell_type": "code",
   "execution_count": 29,
   "id": "05efd2c5-e5fc-4cc1-8d6b-fa25ff37a614",
   "metadata": {},
   "outputs": [
    {
     "ename": "SyntaxError",
     "evalue": "invalid decimal literal (2643505585.py, line 4)",
     "output_type": "error",
     "traceback": [
      "\u001b[1;36m  Cell \u001b[1;32mIn[29], line 4\u001b[1;36m\u001b[0m\n\u001b[1;33m    1name = \"Peter\"\u001b[0m\n\u001b[1;37m    ^\u001b[0m\n\u001b[1;31mSyntaxError\u001b[0m\u001b[1;31m:\u001b[0m invalid decimal literal\n"
     ]
    }
   ],
   "source": [
    "# Invalid Variable names : \n",
    "\n",
    "Full name = \"John Smith\"\n",
    "1name = \"Peter\"\n",
    "1_name = \"John\"\n",
    "_name = \"Carry\"\n",
    "@name = \"Tom\""
   ]
  },
  {
   "cell_type": "code",
   "execution_count": 28,
   "id": "d6da4321-251a-4225-b522-97dacf1879fd",
   "metadata": {},
   "outputs": [
    {
     "name": "stdout",
     "output_type": "stream",
     "text": [
      "John Smith\n",
      "Peter\n",
      "Carry\n"
     ]
    }
   ],
   "source": [
    "# Valid Variable Names:\n",
    "\n",
    "Full_name = \"John Smith\"\n",
    "print(Full_name)\n",
    "name1 = \"Peter\"\n",
    "print(name1)\n",
    "name_1 = \"Carry\"\n",
    "print(name_1)"
   ]
  },
  {
   "cell_type": "code",
   "execution_count": null,
   "id": "6b2c2ee4-4a9d-481d-abbb-3bd889226c46",
   "metadata": {},
   "outputs": [],
   "source": [
    "Introduction to Data Types in Python:\n",
    "\n",
    "    1. Strings ===> str\n",
    "    2. Numbers ===> integer --> int , floats -->(decimal numbers)\n",
    "    3. Lists\n",
    "    4. Tuples\n",
    "    5. Dictionary ===> dict\n"
   ]
  },
  {
   "cell_type": "code",
   "execution_count": null,
   "id": "9f90918b-cb98-4c56-967e-fa1480dc666d",
   "metadata": {},
   "outputs": [],
   "source": [
    "Classification of datatypes: \n",
    "datatypes are classified into two categories:\n",
    "    1. Mutable datatypes --> which can be changed and modified\n",
    "    2. Immutable datatypes --> which cannot be changed nor modified"
   ]
  },
  {
   "cell_type": "code",
   "execution_count": null,
   "id": "4bf94339-7e04-4eaa-a8f9-b97c2b17796b",
   "metadata": {},
   "outputs": [],
   "source": []
  },
  {
   "cell_type": "code",
   "execution_count": null,
   "id": "7946ee6f-3cde-4b69-9ce3-1cdc91504339",
   "metadata": {},
   "outputs": [],
   "source": [
    "Intro to String datatypes: A string is a series of characters declared in quotes.\n",
    "    It is classified as an immutable datatype\n",
    "\n",
    "how to declare a string:\n",
    "1. single quote \n",
    "2. double quote "
   ]
  },
  {
   "cell_type": "code",
   "execution_count": 23,
   "id": "28bef216-7aee-426a-b16d-dc7ae2c86773",
   "metadata": {},
   "outputs": [
    {
     "name": "stdout",
     "output_type": "stream",
     "text": [
      "Hello World!\n"
     ]
    }
   ],
   "source": [
    "Greet = \"Hello World!\"\n",
    "print(Greet)"
   ]
  },
  {
   "cell_type": "code",
   "execution_count": 25,
   "id": "cbb97eb6-06bf-4a26-aeec-88e70f1c3248",
   "metadata": {},
   "outputs": [
    {
     "name": "stdout",
     "output_type": "stream",
     "text": [
      "Introduction to Python Fundamentals!!\n"
     ]
    }
   ],
   "source": [
    "topic = 'Introduction to Python Fundamentals!!'\n",
    "print(topic)"
   ]
  },
  {
   "cell_type": "code",
   "execution_count": null,
   "id": "fe80399a-9db9-4fc5-933b-1d345db4a22a",
   "metadata": {},
   "outputs": [],
   "source": []
  }
 ],
 "metadata": {
  "kernelspec": {
   "display_name": "Python [conda env:base] *",
   "language": "python",
   "name": "conda-base-py"
  },
  "language_info": {
   "codemirror_mode": {
    "name": "ipython",
    "version": 3
   },
   "file_extension": ".py",
   "mimetype": "text/x-python",
   "name": "python",
   "nbconvert_exporter": "python",
   "pygments_lexer": "ipython3",
   "version": "3.13.5"
  }
 },
 "nbformat": 4,
 "nbformat_minor": 5
}
